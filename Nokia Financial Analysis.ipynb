{
 "cells": [
  {
   "cell_type": "markdown",
   "id": "9d59d3b3",
   "metadata": {},
   "source": [
    "# Introduction"
   ]
  },
  {
   "cell_type": "markdown",
   "id": "68465d0a",
   "metadata": {},
   "source": [
    "-The objective of this project is to explore and analyze the relationship between the number of employees and the net income of Nokia, a renowned technology company. By examining Nokia's financial data over a specific period, we aim to understand how changes in the workforce impact the company's financial performance.\n",
    "\n",
    "\n",
    "-Nokia, with its rich history and global presence, has witnessed fluctuations in its net income over time. While net income is influenced by various factors, such as market dynamics, competition, and technological advancements, the focus of this project is to specifically investigate the effect of the number of employees on net income.\n",
    "\n",
    "\n",
    "-By leveraging the power of Python and utilizing libraries such as Pandas, NumPy, Matplotlib, Seaborn we will perform a comprehensive analysis of Nokia's financial data. We will import the necessary libraries, load the data into a Pandas DataFrame, and conduct exploratory data analysis to gain insights into the trends and patterns present."
   ]
  },
  {
   "cell_type": "markdown",
   "id": "2d07d2e3",
   "metadata": {},
   "source": [
    "# Step 0: Importing Libraries and reading the data"
   ]
  },
  {
   "cell_type": "markdown",
   "id": "05ed2763",
   "metadata": {},
   "source": [
    "I started by importing the necessary libraries: Pandas, Numpy, Matplotlib.\n",
    "\n",
    "Some other libraries would be imported further."
   ]
  },
  {
   "cell_type": "code",
   "execution_count": 1,
   "id": "bc8659dc",
   "metadata": {},
   "outputs": [],
   "source": [
    "import pandas as pd\n",
    "import numpy as np\n",
    "import matplotlib.pyplot as plt"
   ]
  },
  {
   "cell_type": "code",
   "execution_count": 2,
   "id": "37c846cf",
   "metadata": {},
   "outputs": [],
   "source": [
    "df = pd.read_csv('Nokia_Dataset.csv')"
   ]
  },
  {
   "cell_type": "markdown",
   "id": "745655c0",
   "metadata": {},
   "source": [
    "# Step 1: Data Understanding"
   ]
  },
  {
   "cell_type": "code",
   "execution_count": 3,
   "id": "173c7620",
   "metadata": {},
   "outputs": [
    {
     "data": {
      "text/plain": [
       "(23, 4)"
      ]
     },
     "execution_count": 3,
     "metadata": {},
     "output_type": "execute_result"
    }
   ],
   "source": [
    "df.shape"
   ]
  },
  {
   "cell_type": "markdown",
   "id": "b9edd628",
   "metadata": {},
   "source": [
    "We have 23 rows and 4 columns in our dataset."
   ]
  },
  {
   "cell_type": "code",
   "execution_count": 4,
   "id": "b5011774",
   "metadata": {},
   "outputs": [
    {
     "data": {
      "text/plain": [
       "Index(['Year', 'Number of Employees', 'Net Sales in Euro',\n",
       "       'Net Income in Euro'],\n",
       "      dtype='object')"
      ]
     },
     "execution_count": 4,
     "metadata": {},
     "output_type": "execute_result"
    }
   ],
   "source": [
    "df.columns"
   ]
  },
  {
   "cell_type": "markdown",
   "id": "7dfc86c4",
   "metadata": {},
   "source": [
    "We have collected some info on our column names or 'features'."
   ]
  },
  {
   "cell_type": "markdown",
   "id": "d69b7c9b",
   "metadata": {},
   "source": [
    "Now, we want to check for the data types each of those features have.\n",
    "\n",
    "In case we have some errors, we could easily fix them before getting started."
   ]
  },
  {
   "cell_type": "code",
   "execution_count": 5,
   "id": "53cc1e90",
   "metadata": {},
   "outputs": [
    {
     "data": {
      "text/plain": [
       "Year                     int64\n",
       "Number of Employees    float64\n",
       "Net Sales in Euro        int64\n",
       "Net Income in Euro     float64\n",
       "dtype: object"
      ]
     },
     "execution_count": 5,
     "metadata": {},
     "output_type": "execute_result"
    }
   ],
   "source": [
    "df.dtypes"
   ]
  },
  {
   "cell_type": "markdown",
   "id": "f67bf238",
   "metadata": {},
   "source": [
    "At this point, we have not found any errors with data types, so we can start to gather some statistical data or other useful info about our dataset."
   ]
  },
  {
   "cell_type": "code",
   "execution_count": 6,
   "id": "182f6ca0",
   "metadata": {},
   "outputs": [
    {
     "data": {
      "text/html": [
       "<div>\n",
       "<style scoped>\n",
       "    .dataframe tbody tr th:only-of-type {\n",
       "        vertical-align: middle;\n",
       "    }\n",
       "\n",
       "    .dataframe tbody tr th {\n",
       "        vertical-align: top;\n",
       "    }\n",
       "\n",
       "    .dataframe thead th {\n",
       "        text-align: right;\n",
       "    }\n",
       "</style>\n",
       "<table border=\"1\" class=\"dataframe\">\n",
       "  <thead>\n",
       "    <tr style=\"text-align: right;\">\n",
       "      <th></th>\n",
       "      <th>Year</th>\n",
       "      <th>Number of Employees</th>\n",
       "      <th>Net Sales in Euro</th>\n",
       "      <th>Net Income in Euro</th>\n",
       "    </tr>\n",
       "  </thead>\n",
       "  <tbody>\n",
       "    <tr>\n",
       "      <th>count</th>\n",
       "      <td>23.00000</td>\n",
       "      <td>17.000000</td>\n",
       "      <td>2.300000e+01</td>\n",
       "      <td>1.600000e+01</td>\n",
       "    </tr>\n",
       "    <tr>\n",
       "      <th>mean</th>\n",
       "      <td>2010.00000</td>\n",
       "      <td>94368.823529</td>\n",
       "      <td>2.927391e+10</td>\n",
       "      <td>9.926875e+08</td>\n",
       "    </tr>\n",
       "    <tr>\n",
       "      <th>std</th>\n",
       "      <td>6.78233</td>\n",
       "      <td>26630.952359</td>\n",
       "      <td>1.110167e+10</td>\n",
       "      <td>2.777606e+09</td>\n",
       "    </tr>\n",
       "    <tr>\n",
       "      <th>min</th>\n",
       "      <td>1999.00000</td>\n",
       "      <td>55400.000000</td>\n",
       "      <td>1.176000e+10</td>\n",
       "      <td>-3.105000e+09</td>\n",
       "    </tr>\n",
       "    <tr>\n",
       "      <th>25%</th>\n",
       "      <td>2004.50000</td>\n",
       "      <td>68480.000000</td>\n",
       "      <td>2.238000e+10</td>\n",
       "      <td>-8.655000e+08</td>\n",
       "    </tr>\n",
       "    <tr>\n",
       "      <th>50%</th>\n",
       "      <td>2010.00000</td>\n",
       "      <td>98320.000000</td>\n",
       "      <td>2.953000e+10</td>\n",
       "      <td>4.490000e+08</td>\n",
       "    </tr>\n",
       "    <tr>\n",
       "      <th>75%</th>\n",
       "      <td>2015.50000</td>\n",
       "      <td>112260.000000</td>\n",
       "      <td>3.642500e+10</td>\n",
       "      <td>2.715000e+09</td>\n",
       "    </tr>\n",
       "    <tr>\n",
       "      <th>max</th>\n",
       "      <td>2021.00000</td>\n",
       "      <td>132430.000000</td>\n",
       "      <td>5.106000e+10</td>\n",
       "      <td>7.205000e+09</td>\n",
       "    </tr>\n",
       "  </tbody>\n",
       "</table>\n",
       "</div>"
      ],
      "text/plain": [
       "             Year  Number of Employees  Net Sales in Euro  Net Income in Euro\n",
       "count    23.00000            17.000000       2.300000e+01        1.600000e+01\n",
       "mean   2010.00000         94368.823529       2.927391e+10        9.926875e+08\n",
       "std       6.78233         26630.952359       1.110167e+10        2.777606e+09\n",
       "min    1999.00000         55400.000000       1.176000e+10       -3.105000e+09\n",
       "25%    2004.50000         68480.000000       2.238000e+10       -8.655000e+08\n",
       "50%    2010.00000         98320.000000       2.953000e+10        4.490000e+08\n",
       "75%    2015.50000        112260.000000       3.642500e+10        2.715000e+09\n",
       "max    2021.00000        132430.000000       5.106000e+10        7.205000e+09"
      ]
     },
     "execution_count": 6,
     "metadata": {},
     "output_type": "execute_result"
    }
   ],
   "source": [
    "df.describe()"
   ]
  },
  {
   "cell_type": "code",
   "execution_count": 7,
   "id": "3f626eee",
   "metadata": {},
   "outputs": [
    {
     "data": {
      "text/html": [
       "<div>\n",
       "<style scoped>\n",
       "    .dataframe tbody tr th:only-of-type {\n",
       "        vertical-align: middle;\n",
       "    }\n",
       "\n",
       "    .dataframe tbody tr th {\n",
       "        vertical-align: top;\n",
       "    }\n",
       "\n",
       "    .dataframe thead th {\n",
       "        text-align: right;\n",
       "    }\n",
       "</style>\n",
       "<table border=\"1\" class=\"dataframe\">\n",
       "  <thead>\n",
       "    <tr style=\"text-align: right;\">\n",
       "      <th></th>\n",
       "      <th>Year</th>\n",
       "      <th>Number of Employees</th>\n",
       "      <th>Net Sales in Euro</th>\n",
       "      <th>Net Income in Euro</th>\n",
       "    </tr>\n",
       "  </thead>\n",
       "  <tbody>\n",
       "    <tr>\n",
       "      <th>0</th>\n",
       "      <td>2021</td>\n",
       "      <td>87900.0</td>\n",
       "      <td>22200000000</td>\n",
       "      <td>1.623000e+09</td>\n",
       "    </tr>\n",
       "    <tr>\n",
       "      <th>1</th>\n",
       "      <td>2020</td>\n",
       "      <td>92040.0</td>\n",
       "      <td>21850000000</td>\n",
       "      <td>-2.431000e+09</td>\n",
       "    </tr>\n",
       "    <tr>\n",
       "      <th>2</th>\n",
       "      <td>2019</td>\n",
       "      <td>98320.0</td>\n",
       "      <td>23320000000</td>\n",
       "      <td>7.000000e+06</td>\n",
       "    </tr>\n",
       "    <tr>\n",
       "      <th>3</th>\n",
       "      <td>2018</td>\n",
       "      <td>103080.0</td>\n",
       "      <td>22560000000</td>\n",
       "      <td>-3.400000e+08</td>\n",
       "    </tr>\n",
       "    <tr>\n",
       "      <th>4</th>\n",
       "      <td>2017</td>\n",
       "      <td>102760.0</td>\n",
       "      <td>23150000000</td>\n",
       "      <td>-1.494000e+09</td>\n",
       "    </tr>\n",
       "  </tbody>\n",
       "</table>\n",
       "</div>"
      ],
      "text/plain": [
       "   Year  Number of Employees  Net Sales in Euro  Net Income in Euro\n",
       "0  2021              87900.0        22200000000        1.623000e+09\n",
       "1  2020              92040.0        21850000000       -2.431000e+09\n",
       "2  2019              98320.0        23320000000        7.000000e+06\n",
       "3  2018             103080.0        22560000000       -3.400000e+08\n",
       "4  2017             102760.0        23150000000       -1.494000e+09"
      ]
     },
     "execution_count": 7,
     "metadata": {},
     "output_type": "execute_result"
    }
   ],
   "source": [
    "df.head()"
   ]
  },
  {
   "cell_type": "markdown",
   "id": "519e65d6",
   "metadata": {},
   "source": [
    "# Step 2: Data Preparation"
   ]
  },
  {
   "cell_type": "code",
   "execution_count": 8,
   "id": "c543a412",
   "metadata": {},
   "outputs": [
    {
     "name": "stdout",
     "output_type": "stream",
     "text": [
      "<class 'pandas.core.frame.DataFrame'>\n",
      "RangeIndex: 23 entries, 0 to 22\n",
      "Data columns (total 4 columns):\n",
      " #   Column               Non-Null Count  Dtype  \n",
      "---  ------               --------------  -----  \n",
      " 0   Year                 23 non-null     int64  \n",
      " 1   Number of Employees  17 non-null     float64\n",
      " 2   Net Sales in Euro    23 non-null     int64  \n",
      " 3   Net Income in Euro   16 non-null     float64\n",
      "dtypes: float64(2), int64(2)\n",
      "memory usage: 864.0 bytes\n"
     ]
    }
   ],
   "source": [
    "df.info()"
   ]
  },
  {
   "cell_type": "markdown",
   "id": "25b2329d",
   "metadata": {},
   "source": [
    "At this stage, we can see that we have some missing values."
   ]
  },
  {
   "cell_type": "code",
   "execution_count": 9,
   "id": "e011cda2",
   "metadata": {},
   "outputs": [
    {
     "data": {
      "text/plain": [
       "Year                   0\n",
       "Number of Employees    6\n",
       "Net Sales in Euro      0\n",
       "Net Income in Euro     7\n",
       "dtype: int64"
      ]
     },
     "execution_count": 9,
     "metadata": {},
     "output_type": "execute_result"
    }
   ],
   "source": [
    "df.isna().sum()"
   ]
  },
  {
   "cell_type": "markdown",
   "id": "5754984c",
   "metadata": {},
   "source": [
    "Let's fix this and drop these values."
   ]
  },
  {
   "cell_type": "code",
   "execution_count": 10,
   "id": "cf0b37ac",
   "metadata": {},
   "outputs": [
    {
     "data": {
      "text/html": [
       "<div>\n",
       "<style scoped>\n",
       "    .dataframe tbody tr th:only-of-type {\n",
       "        vertical-align: middle;\n",
       "    }\n",
       "\n",
       "    .dataframe tbody tr th {\n",
       "        vertical-align: top;\n",
       "    }\n",
       "\n",
       "    .dataframe thead th {\n",
       "        text-align: right;\n",
       "    }\n",
       "</style>\n",
       "<table border=\"1\" class=\"dataframe\">\n",
       "  <thead>\n",
       "    <tr style=\"text-align: right;\">\n",
       "      <th></th>\n",
       "      <th>Year</th>\n",
       "      <th>Number of Employees</th>\n",
       "      <th>Net Sales in Euro</th>\n",
       "      <th>Net Income in Euro</th>\n",
       "    </tr>\n",
       "  </thead>\n",
       "  <tbody>\n",
       "    <tr>\n",
       "      <th>0</th>\n",
       "      <td>2021</td>\n",
       "      <td>87900.0</td>\n",
       "      <td>22200000000</td>\n",
       "      <td>1.623000e+09</td>\n",
       "    </tr>\n",
       "    <tr>\n",
       "      <th>1</th>\n",
       "      <td>2020</td>\n",
       "      <td>92040.0</td>\n",
       "      <td>21850000000</td>\n",
       "      <td>-2.431000e+09</td>\n",
       "    </tr>\n",
       "    <tr>\n",
       "      <th>2</th>\n",
       "      <td>2019</td>\n",
       "      <td>98320.0</td>\n",
       "      <td>23320000000</td>\n",
       "      <td>7.000000e+06</td>\n",
       "    </tr>\n",
       "    <tr>\n",
       "      <th>3</th>\n",
       "      <td>2018</td>\n",
       "      <td>103080.0</td>\n",
       "      <td>22560000000</td>\n",
       "      <td>-3.400000e+08</td>\n",
       "    </tr>\n",
       "    <tr>\n",
       "      <th>4</th>\n",
       "      <td>2017</td>\n",
       "      <td>102760.0</td>\n",
       "      <td>23150000000</td>\n",
       "      <td>-1.494000e+09</td>\n",
       "    </tr>\n",
       "    <tr>\n",
       "      <th>5</th>\n",
       "      <td>2016</td>\n",
       "      <td>100880.0</td>\n",
       "      <td>23640000000</td>\n",
       "      <td>-7.660000e+08</td>\n",
       "    </tr>\n",
       "    <tr>\n",
       "      <th>6</th>\n",
       "      <td>2015</td>\n",
       "      <td>55720.0</td>\n",
       "      <td>12500000000</td>\n",
       "      <td>2.466000e+09</td>\n",
       "    </tr>\n",
       "    <tr>\n",
       "      <th>7</th>\n",
       "      <td>2014</td>\n",
       "      <td>55400.0</td>\n",
       "      <td>11760000000</td>\n",
       "      <td>3.462000e+09</td>\n",
       "    </tr>\n",
       "    <tr>\n",
       "      <th>8</th>\n",
       "      <td>2013</td>\n",
       "      <td>58900.0</td>\n",
       "      <td>12710000000</td>\n",
       "      <td>-6.150000e+08</td>\n",
       "    </tr>\n",
       "    <tr>\n",
       "      <th>9</th>\n",
       "      <td>2012</td>\n",
       "      <td>97800.0</td>\n",
       "      <td>30180000000</td>\n",
       "      <td>-3.105000e+09</td>\n",
       "    </tr>\n",
       "    <tr>\n",
       "      <th>10</th>\n",
       "      <td>2011</td>\n",
       "      <td>130050.0</td>\n",
       "      <td>38660000000</td>\n",
       "      <td>-1.164000e+09</td>\n",
       "    </tr>\n",
       "    <tr>\n",
       "      <th>11</th>\n",
       "      <td>2010</td>\n",
       "      <td>132430.0</td>\n",
       "      <td>42450000000</td>\n",
       "      <td>1.850000e+09</td>\n",
       "    </tr>\n",
       "    <tr>\n",
       "      <th>12</th>\n",
       "      <td>2009</td>\n",
       "      <td>123550.0</td>\n",
       "      <td>40980000000</td>\n",
       "      <td>8.910000e+08</td>\n",
       "    </tr>\n",
       "    <tr>\n",
       "      <th>13</th>\n",
       "      <td>2008</td>\n",
       "      <td>125830.0</td>\n",
       "      <td>50710000000</td>\n",
       "      <td>3.988000e+09</td>\n",
       "    </tr>\n",
       "    <tr>\n",
       "      <th>14</th>\n",
       "      <td>2007</td>\n",
       "      <td>112260.0</td>\n",
       "      <td>51060000000</td>\n",
       "      <td>7.205000e+09</td>\n",
       "    </tr>\n",
       "    <tr>\n",
       "      <th>15</th>\n",
       "      <td>2006</td>\n",
       "      <td>68480.0</td>\n",
       "      <td>41120000000</td>\n",
       "      <td>4.306000e+09</td>\n",
       "    </tr>\n",
       "  </tbody>\n",
       "</table>\n",
       "</div>"
      ],
      "text/plain": [
       "    Year  Number of Employees  Net Sales in Euro  Net Income in Euro\n",
       "0   2021              87900.0        22200000000        1.623000e+09\n",
       "1   2020              92040.0        21850000000       -2.431000e+09\n",
       "2   2019              98320.0        23320000000        7.000000e+06\n",
       "3   2018             103080.0        22560000000       -3.400000e+08\n",
       "4   2017             102760.0        23150000000       -1.494000e+09\n",
       "5   2016             100880.0        23640000000       -7.660000e+08\n",
       "6   2015              55720.0        12500000000        2.466000e+09\n",
       "7   2014              55400.0        11760000000        3.462000e+09\n",
       "8   2013              58900.0        12710000000       -6.150000e+08\n",
       "9   2012              97800.0        30180000000       -3.105000e+09\n",
       "10  2011             130050.0        38660000000       -1.164000e+09\n",
       "11  2010             132430.0        42450000000        1.850000e+09\n",
       "12  2009             123550.0        40980000000        8.910000e+08\n",
       "13  2008             125830.0        50710000000        3.988000e+09\n",
       "14  2007             112260.0        51060000000        7.205000e+09\n",
       "15  2006              68480.0        41120000000        4.306000e+09"
      ]
     },
     "execution_count": 10,
     "metadata": {},
     "output_type": "execute_result"
    }
   ],
   "source": [
    "df.dropna()"
   ]
  },
  {
   "cell_type": "markdown",
   "id": "87786bf2",
   "metadata": {},
   "source": [
    "Of course, there are some other approaches of doing this, but I prefer simple one.\n",
    "\n",
    "We can also fill these empty values, but let's stick with dropping method."
   ]
  },
  {
   "cell_type": "code",
   "execution_count": 11,
   "id": "566f8155",
   "metadata": {},
   "outputs": [
    {
     "name": "stdout",
     "output_type": "stream",
     "text": [
      "0     False\n",
      "1     False\n",
      "2     False\n",
      "3     False\n",
      "4     False\n",
      "5     False\n",
      "6     False\n",
      "7     False\n",
      "8     False\n",
      "9     False\n",
      "10    False\n",
      "11    False\n",
      "12    False\n",
      "13    False\n",
      "14    False\n",
      "15    False\n",
      "16    False\n",
      "17    False\n",
      "18    False\n",
      "19    False\n",
      "20    False\n",
      "21    False\n",
      "22    False\n",
      "dtype: bool\n"
     ]
    }
   ],
   "source": [
    "print(df.duplicated())"
   ]
  },
  {
   "cell_type": "markdown",
   "id": "d341ba30",
   "metadata": {},
   "source": [
    "Checking for possible duplicates.\n",
    "\n",
    "Luckily, there aren't any duplicated so we can start to make some visuals."
   ]
  },
  {
   "cell_type": "markdown",
   "id": "1885a839",
   "metadata": {},
   "source": [
    "# Step 3: Feature Understanding"
   ]
  },
  {
   "cell_type": "markdown",
   "id": "e120fc11",
   "metadata": {},
   "source": [
    "I prefer to start by looking for some relationships between features and understanding them.\n",
    "\n",
    "Let's start with looking at company's net sales every year."
   ]
  },
  {
   "cell_type": "code",
   "execution_count": 15,
   "id": "1cfa1ae0",
   "metadata": {},
   "outputs": [
    {
     "data": {
      "image/png": "[encoded data removed]",
      "text/plain": [
       "<Figure size 640x480 with 1 Axes>"
      ]
     },
     "metadata": {},
     "output_type": "display_data"
    }
   ],
   "source": [
    "#plt.figure(figsize=(10,6))\n",
    "plt.plot(df[\"Year\"],df[\"Net Sales in Euro\"], marker = 'o', linestyle = '--', color = 'blue', markerfacecolor='black', linewidth = 3)\n",
    "plt.xlabel(\"Year\")\n",
    "plt.ylabel(\"Euro (billions)\")\n",
    "plt.xticks(range(2000,2022,5))\n",
    "plt.yticks(range(10000000000, 60000000000, 10000000000))\n",
    "plt.legend(['Company net sales per year'], loc = 'upper right')\n",
    "plt.text(2005.3, 5000*1e7, 'Peak', fontsize = 7)\n",
    "plt.show()"
   ]
  },
  {
   "cell_type": "markdown",
   "id": "bb812e16",
   "metadata": {},
   "source": [
    "We can observe from the graph that NOKIA's net sales were not stable over the whole period with some ups and downs.\n",
    "\n",
    "We want to find some reason for this phenomena.\n",
    "\n",
    "Since we have only 3 features, I suppose that number of employees might be one of the reasons for this sharp drop.\n",
    "\n",
    "Before we make next step, I want to visualize net income first."
   ]
  },
  {
   "cell_type": "code",
   "execution_count": 16,
   "id": "0da92de6",
   "metadata": {},
   "outputs": [
    {
     "data": {
      "text/plain": [
       "Text(2018, 4000000000.0, 'Profit Area')"
      ]
     },
     "execution_count": 16,
     "metadata": {},
     "output_type": "execute_result"
    },
    {
     "data": {
      "image/png": "[encoded data removed]",
      "text/plain": [
       "<Figure size 640x480 with 1 Axes>"
      ]
     },
     "metadata": {},
     "output_type": "display_data"
    }
   ],
   "source": [
    "plt.bar(df['Year'], df['Net Income in Euro'])\n",
    "plt.legend(['Company net income per year'])\n",
    "plt.xlabel(\"Year\")\n",
    "plt.ylabel(\"Euro (billions)\")\n",
    "plt.text(2008, -2000*1e6, 'Loss Area', color = 'red')\n",
    "plt.text(2018, 4000*1e6, 'Profit Area', color = 'green')"
   ]
  },
  {
   "cell_type": "markdown",
   "id": "3793489e",
   "metadata": {},
   "source": [
    "What we can observe from this bar plot is that company have lost some of its money during some specific periods.\n",
    "\n",
    "At this point, we can find out if number of employees directly affect net income of company or not."
   ]
  },
  {
   "cell_type": "markdown",
   "id": "e0f44848",
   "metadata": {},
   "source": [
    "# Step 4: Feature Relationships"
   ]
  },
  {
   "cell_type": "markdown",
   "id": "9a1fd140",
   "metadata": {},
   "source": [
    "Let's start by simply looking at correlations between features."
   ]
  },
  {
   "cell_type": "code",
   "execution_count": 17,
   "id": "dc3f413a",
   "metadata": {},
   "outputs": [
    {
     "data": {
      "text/html": [
       "<div>\n",
       "<style scoped>\n",
       "    .dataframe tbody tr th:only-of-type {\n",
       "        vertical-align: middle;\n",
       "    }\n",
       "\n",
       "    .dataframe tbody tr th {\n",
       "        vertical-align: top;\n",
       "    }\n",
       "\n",
       "    .dataframe thead th {\n",
       "        text-align: right;\n",
       "    }\n",
       "</style>\n",
       "<table border=\"1\" class=\"dataframe\">\n",
       "  <thead>\n",
       "    <tr style=\"text-align: right;\">\n",
       "      <th></th>\n",
       "      <th>Year</th>\n",
       "      <th>Number of Employees</th>\n",
       "      <th>Net Sales in Euro</th>\n",
       "      <th>Net Income in Euro</th>\n",
       "    </tr>\n",
       "  </thead>\n",
       "  <tbody>\n",
       "    <tr>\n",
       "      <th>Year</th>\n",
       "      <td>1.000000</td>\n",
       "      <td>-0.078590</td>\n",
       "      <td>-0.393868</td>\n",
       "      <td>-0.557094</td>\n",
       "    </tr>\n",
       "    <tr>\n",
       "      <th>Number of Employees</th>\n",
       "      <td>-0.078590</td>\n",
       "      <td>1.000000</td>\n",
       "      <td>0.656492</td>\n",
       "      <td>-0.076023</td>\n",
       "    </tr>\n",
       "    <tr>\n",
       "      <th>Net Sales in Euro</th>\n",
       "      <td>-0.393868</td>\n",
       "      <td>0.656492</td>\n",
       "      <td>1.000000</td>\n",
       "      <td>0.446527</td>\n",
       "    </tr>\n",
       "    <tr>\n",
       "      <th>Net Income in Euro</th>\n",
       "      <td>-0.557094</td>\n",
       "      <td>-0.076023</td>\n",
       "      <td>0.446527</td>\n",
       "      <td>1.000000</td>\n",
       "    </tr>\n",
       "  </tbody>\n",
       "</table>\n",
       "</div>"
      ],
      "text/plain": [
       "                         Year  Number of Employees  Net Sales in Euro  \\\n",
       "Year                 1.000000            -0.078590          -0.393868   \n",
       "Number of Employees -0.078590             1.000000           0.656492   \n",
       "Net Sales in Euro   -0.393868             0.656492           1.000000   \n",
       "Net Income in Euro  -0.557094            -0.076023           0.446527   \n",
       "\n",
       "                     Net Income in Euro  \n",
       "Year                          -0.557094  \n",
       "Number of Employees           -0.076023  \n",
       "Net Sales in Euro              0.446527  \n",
       "Net Income in Euro             1.000000  "
      ]
     },
     "execution_count": 17,
     "metadata": {},
     "output_type": "execute_result"
    }
   ],
   "source": [
    "df.corr()"
   ]
  },
  {
   "cell_type": "markdown",
   "id": "b5dbfd8c",
   "metadata": {},
   "source": [
    "From this table, we can observe that number of employees and net sales have strong possitive correlation, which means they are highly related to each other. If one increases, the other will do as well. Conversely, if one decreases, the other will decrease too.\n",
    "\n",
    "So let's try to visualize their relationship and make some conclusions."
   ]
  },
  {
   "cell_type": "code",
   "execution_count": 20,
   "id": "adacebdc",
   "metadata": {},
   "outputs": [
    {
     "data": {
      "text/plain": [
       "([<matplotlib.axis.XTick at 0x1fcdc4cf3d0>,\n",
       "  <matplotlib.axis.XTick at 0x1fcdc4cf1c0>,\n",
       "  <matplotlib.axis.XTick at 0x1fcdc4ca130>,\n",
       "  <matplotlib.axis.XTick at 0x1fcdc641580>,\n",
       "  <matplotlib.axis.XTick at 0x1fcdc641cd0>],\n",
       " [Text(0, 0, ''),\n",
       "  Text(0, 0, ''),\n",
       "  Text(0, 0, ''),\n",
       "  Text(0, 0, ''),\n",
       "  Text(0, 0, '')])"
      ]
     },
     "execution_count": 20,
     "metadata": {},
     "output_type": "execute_result"
    },
    {
     "data": {
      "image/png": "[encoded data removed]",
      "text/plain": [
       "<Figure size 640x480 with 1 Axes>"
      ]
     },
     "metadata": {},
     "output_type": "display_data"
    }
   ],
   "source": [
    "plt.scatter(df['Net Sales in Euro'], df['Number of Employees'])\n",
    "plt.legend(['Company net sales per year'])\n",
    "plt.title('No. Employees vs Company Net Sales')\n",
    "plt.ylabel('Number of Employees')\n",
    "plt.xlabel('Euro (billions)')\n",
    "plt.ylim([50000,150000])\n",
    "plt.yticks(range(50000,160000,20000))\n",
    "plt.xticks(range(10000000000, 60000000000, 10000000000))"
   ]
  },
  {
   "cell_type": "markdown",
   "id": "bb816010",
   "metadata": {},
   "source": [
    "As I said earlier, two features have strong positive relationship between each other. At this point, we can conclude that number of employees can have potential impact on company's net income."
   ]
  },
  {
   "cell_type": "markdown",
   "id": "95b3d4af",
   "metadata": {},
   "source": [
    "This is additional visualization with linear regression done by importing seaborn library"
   ]
  },
  {
   "cell_type": "code",
   "execution_count": 19,
   "id": "9c3c72ca",
   "metadata": {},
   "outputs": [
    {
     "data": {
      "text/plain": [
       "<seaborn.axisgrid.PairGrid at 0x1fcd9ca6490>"
      ]
     },
     "execution_count": 19,
     "metadata": {},
     "output_type": "execute_result"
    },
    {
     "data": {
      "image/png": "[encoded data removed]",
      "text/plain": [
       "<Figure size 675x450 with 1 Axes>"
      ]
     },
     "metadata": {},
     "output_type": "display_data"
    }
   ],
   "source": [
    "import seaborn as sns\n",
    "sns.pairplot(df, x_vars=['Net Sales in Euro'], y_vars = ['Number of Employees'], height = 4.5, aspect = 1.5, kind = 'reg')"
   ]
  },
  {
   "cell_type": "markdown",
   "id": "58382ede",
   "metadata": {},
   "source": [
    "# Conclusion"
   ]
  },
  {
   "cell_type": "markdown",
   "id": "abf76023",
   "metadata": {},
   "source": [
    "-Based on the analysis of Nokia's financial data, it can be concluded that the number of employees has a significant impact on the company's net income each year. By examining the trends and patterns in the data, it is evident that variations in the number of employees directly influence the financial performance of the company.\n",
    "\n",
    "\n",
    "-Throughout the analyzed period, it is observed that as the number of employees increases, there is a corresponding effect on the net income. This relationship suggests that a larger workforce contributes to increased productivity and profitability for Nokia. It is important to note that other factors, such as market conditions and company strategies, may also influence net income, but the analysis highlights the significant role played by the number of employees.\n",
    "\n",
    "\n",
    "-The positive correlation between the number of employees and net income implies that Nokia's management should carefully consider workforce planning and optimization strategies. Scaling the number of employees in line with business demands and market conditions can help ensure efficient resource allocation and maximize profitability. Conversely, inadequate staffing levels may hinder the company's ability to meet demand or optimize operations, potentially impacting net income negatively.\n",
    "\n",
    "\n",
    "-To further validate and strengthen this conclusion, additional analyses such as regression modeling or hypothesis testing can be conducted. These statistical techniques can provide more precise insights into the relationship between the number of employees and net income, accounting for other potential influencing factors.\n",
    "\n",
    "\n",
    "(This dataset is freely available on kaggle.com)"
   ]
  },
  {
   "cell_type": "code",
   "execution_count": null,
   "id": "09859f31",
   "metadata": {},
   "outputs": [],
   "source": []
  }
 ],
 "metadata": {
  "kernelspec": {
   "display_name": "Python 3 (ipykernel)",
   "language": "python",
   "name": "python3"
  },
  "language_info": {
   "codemirror_mode": {
    "name": "ipython",
    "version": 3
   },
   "file_extension": ".py",
   "mimetype": "text/x-python",
   "name": "python",
   "nbconvert_exporter": "python",
   "pygments_lexer": "ipython3",
   "version": "3.9.13"
  }
 },
 "nbformat": 4,
 "nbformat_minor": 5
}
